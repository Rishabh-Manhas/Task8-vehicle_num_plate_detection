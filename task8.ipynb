{
 "cells": [
  {
   "cell_type": "markdown",
   "metadata": {},
   "source": [
    "# Importing required libraries and loading neccesary models"
   ]
  },
  {
   "cell_type": "code",
   "execution_count": 1,
   "metadata": {},
   "outputs": [
    {
     "name": "stderr",
     "output_type": "stream",
     "text": [
      "CUDA not available - defaulting to CPU. Note: This module is much faster with a GPU.\n"
     ]
    }
   ],
   "source": [
    "import cv2\n",
    "import numpy as np\n",
    "import matplotlib.pyplot as plt\n",
    "import easyocr\n",
    "\n",
    "model = cv2.CascadeClassifier(\"indian_license_plate (1).xml\")\n",
    "read = easyocr.Reader(['en'])\n",
    "   "
   ]
  },
  {
   "cell_type": "markdown",
   "metadata": {},
   "source": [
    "# Loading the test video"
   ]
  },
  {
   "cell_type": "code",
   "execution_count": 2,
   "metadata": {
    "scrolled": true
   },
   "outputs": [],
   "source": [
    "cap = cv2.VideoCapture(\"testing.mp4\")"
   ]
  },
  {
   "cell_type": "markdown",
   "metadata": {},
   "source": [
    "# Function to Detect the Number plate from a single frame"
   ]
  },
  {
   "cell_type": "code",
   "execution_count": 3,
   "metadata": {},
   "outputs": [],
   "source": [
    "def detect_plate(img):\n",
    "    img_=cv2.cvtColor(img,cv2.IMREAD_GRAYSCALE)\n",
    "    plate_cord=model.detectMultiScale(img,1.7,3)\n",
    "    \n",
    "\n",
    "    if (len(plate_cord)==1):\n",
    "        [[x,y,w,h]] = plate_cord\n",
    "        plate_img=img_[y:y+h,x:x+w]\n",
    "        cv2.rectangle(img,(x,y),(x+w,y+h),(0,255,0),2)\n",
    "        \n",
    "             \n",
    "    else:\n",
    "    \n",
    "        return None\n",
    "        \n",
    "    return plate_img, img\n"
   ]
  },
  {
   "cell_type": "markdown",
   "metadata": {},
   "source": [
    "# Recognising the text from the number plate and displaying the result"
   ]
  },
  {
   "cell_type": "code",
   "execution_count": 4,
   "metadata": {
    "scrolled": false
   },
   "outputs": [
    {
     "name": "stderr",
     "output_type": "stream",
     "text": [
      "C:\\Users\\HP\\AppData\\Roaming\\Python\\Python37\\site-packages\\torch\\nn\\functional.py:718: UserWarning: Named tensors and all their associated APIs are an experimental feature and subject to change. Please do not use them for anything important until they are released as stable. (Triggered internally at  ..\\c10/core/TensorImpl.h:1156.)\n",
      "  return torch.max_pool2d(input, kernel_size, stride, padding, dilation, ceil_mode)\n"
     ]
    },
    {
     "name": "stdout",
     "output_type": "stream",
     "text": [
      "Exception\n",
      "MH 20 TC 1107E\n"
     ]
    }
   ],
   "source": [
    "plate_num='....'\n",
    "if (cap.isOpened()) == False:\n",
    "    print(\"video not imported\")\n",
    "while (cap.isOpened()):\n",
    "   \n",
    "    \n",
    "    \n",
    "    ret,image=cap.read()\n",
    "    if ret==True:\n",
    "        try:\n",
    "            \n",
    "           \n",
    "            if detect_plate(image) is not None:\n",
    "               \n",
    "                plate_image,full_img = detect_plate(image)\n",
    "                \n",
    "                \n",
    "                result = read.readtext(plate_image)\n",
    "                if len(result)==0:\n",
    "                    cv2.putText(full_img, \"Processing Text...\", (450, 300), cv2.FONT_HERSHEY_COMPLEX, 1, (255,0,0), 1)\n",
    "                    cv2.imshow('Plate_Recognition', full_img )\n",
    "\n",
    "                    \n",
    "                else:\n",
    "                    plate_pos = result[0][0]\n",
    "            \n",
    "                    plate_number = result[0][1]\n",
    "                    plate_number = plate_number.upper()\n",
    "                    if len(plate_number)==14:\n",
    "                        plate_num  = plate_number\n",
    "                        cv2.putText(full_img, plate_number, ( 400,500 ), cv2.FONT_HERSHEY_COMPLEX, 1, (0,255,0), 1)\n",
    "                        cv2.putText(full_img, \"Number Plate Detected:\", (400, 300), cv2.FONT_HERSHEY_COMPLEX, 1, (255,0,0), 1)\n",
    "                        cv2.imshow('Plate_Recognition', full_img )\n",
    "                        cv2.waitKey()\n",
    "                        break\n",
    "                        \n",
    "            \n",
    "        \n",
    "                        \n",
    "            else:\n",
    "                cv2.putText(image, \"Detecting...\", (450,300 ), cv2.FONT_HERSHEY_COMPLEX, 1, (0,0,255), 1)\n",
    "                \n",
    "                cv2.imshow('Plate_Recognition',image)\n",
    "                \n",
    "        except:\n",
    "            print(\"Exception\")\n",
    "            cv2.imshow('Plate_Recognition',image)\n",
    "        \n",
    "        if cv2.waitKey(1) == 13:\n",
    "               \n",
    "                break           \n",
    "                        \n",
    "            \n",
    "            \n",
    "        \n",
    "    else:\n",
    "        \n",
    "        break\n",
    "cap.release()\n",
    "cv2.destroyAllWindows()\n",
    "print(plate_num)"
   ]
  },
  {
   "cell_type": "code",
   "execution_count": null,
   "metadata": {
    "scrolled": true
   },
   "outputs": [],
   "source": [
    "\n"
   ]
  }
 ],
 "metadata": {
  "kernelspec": {
   "display_name": "Python 3",
   "language": "python",
   "name": "python3"
  },
  "language_info": {
   "codemirror_mode": {
    "name": "ipython",
    "version": 3
   },
   "file_extension": ".py",
   "mimetype": "text/x-python",
   "name": "python",
   "nbconvert_exporter": "python",
   "pygments_lexer": "ipython3",
   "version": "3.7.4"
  }
 },
 "nbformat": 4,
 "nbformat_minor": 2
}
